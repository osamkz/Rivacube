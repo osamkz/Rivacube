{
 "cells": [
  {
   "cell_type": "code",
   "execution_count": 1,
   "id": "sustainable-toddler",
   "metadata": {},
   "outputs": [],
   "source": [
    "# ライブラリのインポート\n",
    "import pandas as pd\n",
    "from sklearn.cluster import KMeans"
   ]
  },
  {
   "cell_type": "code",
   "execution_count": 4,
   "id": "rapid-reggae",
   "metadata": {},
   "outputs": [],
   "source": [
    "before = pd.read_csv(\"before_covid_sum.csv\")\n",
    "after = pd.read_csv(\"after_covid_sum.csv\")\n",
    "\n",
    "bef = before.drop('Country/Region',axis=1)\n",
    "aft = after.drop('Country/Region',axis=1)\n",
    "\n",
    "names1 = pd.read_csv(\"county_name.csv\")\n",
    "names2 = pd.read_csv(\"country_name.csv\")"
   ]
  },
  {
   "cell_type": "code",
   "execution_count": 3,
   "id": "worst-counter",
   "metadata": {},
   "outputs": [],
   "source": [
    "bef_std = bef.apply(lambda x: (x-x.mean())/x.std(), axis=1)\n",
    "aft_std = aft.apply(lambda x: (x-x.mean())/x.std(), axis=1)"
   ]
  },
  {
   "cell_type": "code",
   "execution_count": 5,
   "id": "academic-screen",
   "metadata": {},
   "outputs": [],
   "source": [
    "# KMeansメソッドの実行\n",
    "clu = KMeans(n_clusters=5)\n",
    "\n",
    "# 結果の出力\n",
    "bef_std[\"class\"] = clu.fit_predict(bef_std)\n",
    "aft_std[\"class\"] = clu.fit_predict(aft_std)\n",
    "\n",
    "bef_std[\"Country/Region\"] = names2[\"Country/Region\"]\n",
    "aft_std[\"Country/Region\"] = names1[\"Country/Region\"]"
   ]
  },
  {
   "cell_type": "code",
   "execution_count": 6,
   "id": "conservative-wrong",
   "metadata": {},
   "outputs": [],
   "source": [
    "# 各グループの平均値\n",
    "# print('各グループの平均値')\n",
    "bef_mean = bef_std.groupby(\"class\").mean()\n",
    "aft_mean = aft_std.groupby(\"class\").mean()\n",
    "\n",
    "bef_mean.to_csv(\"cluster_mean_bef.csv\")\n",
    "aft_mean.to_csv(\"cluster_mean_aft.csv\")\n",
    "\n",
    "bef_std.to_csv(\"bef_cov.csv\")\n",
    "aft_std.to_csv(\"aft_cov.csv\")"
   ]
  },
  {
   "cell_type": "code",
   "execution_count": null,
   "id": "aboriginal-yemen",
   "metadata": {},
   "outputs": [],
   "source": []
  }
 ],
 "metadata": {
  "kernelspec": {
   "display_name": "Python 3",
   "language": "python",
   "name": "python3"
  },
  "language_info": {
   "codemirror_mode": {
    "name": "ipython",
    "version": 3
   },
   "file_extension": ".py",
   "mimetype": "text/x-python",
   "name": "python",
   "nbconvert_exporter": "python",
   "pygments_lexer": "ipython3",
   "version": "3.7.3"
  }
 },
 "nbformat": 4,
 "nbformat_minor": 5
}
