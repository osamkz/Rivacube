{
 "cells": [
  {
   "cell_type": "code",
   "execution_count": 9,
   "id": "enormous-pension",
   "metadata": {},
   "outputs": [],
   "source": [
    "# ライブラリのインポート\n",
    "import pandas as pd\n",
    "from sklearn.cluster import KMeans"
   ]
  },
  {
   "cell_type": "code",
   "execution_count": 11,
   "id": "floppy-idaho",
   "metadata": {},
   "outputs": [],
   "source": [
    "dat10 = pd.read_csv(\"2010_11.csv\")\n",
    "dat11 = pd.read_csv(\"2011_12.csv\")\n",
    "dat12 = pd.read_csv(\"2012_13.csv\")\n",
    "dat13 = pd.read_csv(\"2013_14.csv\")\n",
    "dat14 = pd.read_csv(\"2014_15.csv\")"
   ]
  },
  {
   "cell_type": "code",
   "execution_count": 12,
   "id": "scientific-scene",
   "metadata": {},
   "outputs": [],
   "source": [
    "dat0 = dat10.drop('Country/Region',axis=1)\n",
    "dat1 = dat11.drop('Country/Region',axis=1)\n",
    "dat2 = dat12.drop('Country/Region',axis=1)\n",
    "dat3 = dat13.drop('Country/Region',axis=1)\n",
    "dat4 = dat14.drop('Country/Region',axis=1)"
   ]
  },
  {
   "cell_type": "code",
   "execution_count": 15,
   "id": "confirmed-adventure",
   "metadata": {},
   "outputs": [],
   "source": [
    "# KMeansメソッドの実行\n",
    "clu = KMeans(n_clusters=5)\n",
    "\n",
    "# 結果の出力\n",
    "dat10[\"class\"] = clu.fit_predict(dat0)\n",
    "dat11[\"class\"] = clu.fit_predict(dat1)\n",
    "dat12[\"class\"] = clu.fit_predict(dat2)\n",
    "dat13[\"class\"] = clu.fit_predict(dat3)\n",
    "dat14[\"class\"] = clu.fit_predict(dat4)\n",
    "\n",
    "\n",
    "# 各グループの平均値\n",
    "# print('各グループの平均値')\n",
    "dat0_mean = dat10.groupby(\"class\").mean()\n",
    "dat1_mean = dat11.groupby(\"class\").mean()\n",
    "dat2_mean = dat12.groupby(\"class\").mean()\n",
    "dat3_mean = dat13.groupby(\"class\").mean()\n",
    "dat4_mean = dat14.groupby(\"class\").mean()"
   ]
  },
  {
   "cell_type": "code",
   "execution_count": 16,
   "id": "fluid-barbados",
   "metadata": {},
   "outputs": [],
   "source": [
    "dat0_mean.to_csv(\"cluster_mean_dat10.csv\")\n",
    "dat1_mean.to_csv(\"cluster_mean_dat11.csv\")\n",
    "dat2_mean.to_csv(\"cluster_mean_dat12.csv\")\n",
    "dat3_mean.to_csv(\"cluster_mean_dat13.csv\")\n",
    "dat4_mean.to_csv(\"cluster_mean_dat14.csv\")\n",
    "\n",
    "dat10.to_csv(\"dat10.csv\")\n",
    "dat11.to_csv(\"dat11.csv\")\n",
    "dat12.to_csv(\"dat12.csv\")\n",
    "dat13.to_csv(\"dat13.csv\")\n",
    "dat14.to_csv(\"dat14.csv\")"
   ]
  },
  {
   "cell_type": "code",
   "execution_count": 2,
   "id": "english-humanitarian",
   "metadata": {},
   "outputs": [],
   "source": [
    "# データの読み込み\n",
    "after = pd.read_csv(\"2020_21.csv\")\n",
    "before = pd.read_csv(\"cluster_analysis_before.csv\")"
   ]
  },
  {
   "cell_type": "code",
   "execution_count": 3,
   "id": "grand-aberdeen",
   "metadata": {},
   "outputs": [],
   "source": [
    "aft = after.drop('Country/Region',axis=1)\n",
    "bef = before.drop('Country/Region',axis=1)"
   ]
  },
  {
   "cell_type": "code",
   "execution_count": 4,
   "id": "eleven-complex",
   "metadata": {},
   "outputs": [],
   "source": [
    "# KMeansメソッドの実行\n",
    "clu = KMeans(n_clusters=5)\n",
    "\n",
    "# 結果の出力\n",
    "after[\"class\"] = clu.fit_predict(aft)\n",
    "before[\"class\"] = clu.fit_predict(bef)\n",
    "\n",
    "\n",
    "# 各グループの平均値\n",
    "# print('各グループの平均値')\n",
    "aft_mean = after.groupby(\"class\").mean()\n",
    "bef_mean = before.groupby(\"class\").mean()"
   ]
  },
  {
   "cell_type": "code",
   "execution_count": 1,
   "id": "fantastic-arnold",
   "metadata": {
    "scrolled": true
   },
   "outputs": [],
   "source": [
    "# after"
   ]
  },
  {
   "cell_type": "code",
   "execution_count": 2,
   "id": "catholic-strip",
   "metadata": {},
   "outputs": [],
   "source": [
    "# before"
   ]
  },
  {
   "cell_type": "code",
   "execution_count": 3,
   "id": "acquired-claim",
   "metadata": {},
   "outputs": [],
   "source": [
    "# after[after[\"class\"]==0]"
   ]
  },
  {
   "cell_type": "code",
   "execution_count": 4,
   "id": "impressive-ratio",
   "metadata": {},
   "outputs": [],
   "source": [
    "# before[before[\"class\"]==0]"
   ]
  },
  {
   "cell_type": "code",
   "execution_count": 5,
   "id": "documented-painting",
   "metadata": {},
   "outputs": [],
   "source": [
    "# after[after[\"class\"]==1]"
   ]
  },
  {
   "cell_type": "code",
   "execution_count": 6,
   "id": "hungarian-nursery",
   "metadata": {},
   "outputs": [],
   "source": [
    "# after[after[\"class\"]==2]"
   ]
  },
  {
   "cell_type": "code",
   "execution_count": 7,
   "id": "noticed-marsh",
   "metadata": {},
   "outputs": [],
   "source": [
    "# after[after[\"class\"]==3]"
   ]
  },
  {
   "cell_type": "code",
   "execution_count": 8,
   "id": "raising-yellow",
   "metadata": {},
   "outputs": [],
   "source": [
    "# after[after[\"class\"]==4]"
   ]
  },
  {
   "cell_type": "code",
   "execution_count": 13,
   "id": "overall-orchestra",
   "metadata": {
    "scrolled": false
   },
   "outputs": [
    {
     "data": {
      "text/html": [
       "<div>\n",
       "<style scoped>\n",
       "    .dataframe tbody tr th:only-of-type {\n",
       "        vertical-align: middle;\n",
       "    }\n",
       "\n",
       "    .dataframe tbody tr th {\n",
       "        vertical-align: top;\n",
       "    }\n",
       "\n",
       "    .dataframe thead th {\n",
       "        text-align: right;\n",
       "    }\n",
       "</style>\n",
       "<table border=\"1\" class=\"dataframe\">\n",
       "  <thead>\n",
       "    <tr style=\"text-align: right;\">\n",
       "      <th></th>\n",
       "      <th>Maize_Domestic Utilization</th>\n",
       "      <th>Maize_Opening Stocks</th>\n",
       "      <th>Maize_Production</th>\n",
       "      <th>Rice_Domestic Utilization</th>\n",
       "      <th>Rice_Opening Stocks</th>\n",
       "      <th>Rice_Production</th>\n",
       "      <th>Soybean_Domestic Utilization</th>\n",
       "      <th>Soybean_Opening Stocks</th>\n",
       "      <th>Soybean_Production</th>\n",
       "      <th>Wheat_Domestic Utilization</th>\n",
       "      <th>Wheat_Opening Stocks</th>\n",
       "      <th>Wheat_Production</th>\n",
       "    </tr>\n",
       "    <tr>\n",
       "      <th>class</th>\n",
       "      <th></th>\n",
       "      <th></th>\n",
       "      <th></th>\n",
       "      <th></th>\n",
       "      <th></th>\n",
       "      <th></th>\n",
       "      <th></th>\n",
       "      <th></th>\n",
       "      <th></th>\n",
       "      <th></th>\n",
       "      <th></th>\n",
       "      <th></th>\n",
       "    </tr>\n",
       "  </thead>\n",
       "  <tbody>\n",
       "    <tr>\n",
       "      <th>0</th>\n",
       "      <td>12.561053</td>\n",
       "      <td>1.796316</td>\n",
       "      <td>11.974737</td>\n",
       "      <td>6.183684</td>\n",
       "      <td>1.267368</td>\n",
       "      <td>6.297368</td>\n",
       "      <td>4.625263</td>\n",
       "      <td>0.886316</td>\n",
       "      <td>3.336316</td>\n",
       "      <td>10.172632</td>\n",
       "      <td>2.378421</td>\n",
       "      <td>13.518947</td>\n",
       "    </tr>\n",
       "    <tr>\n",
       "      <th>1</th>\n",
       "      <td>306.540000</td>\n",
       "      <td>48.760000</td>\n",
       "      <td>358.450000</td>\n",
       "      <td>4.850000</td>\n",
       "      <td>0.910000</td>\n",
       "      <td>7.220000</td>\n",
       "      <td>61.060000</td>\n",
       "      <td>14.280000</td>\n",
       "      <td>114.750000</td>\n",
       "      <td>30.480000</td>\n",
       "      <td>27.980000</td>\n",
       "      <td>49.750000</td>\n",
       "    </tr>\n",
       "    <tr>\n",
       "      <th>2</th>\n",
       "      <td>54.950000</td>\n",
       "      <td>9.265000</td>\n",
       "      <td>49.950000</td>\n",
       "      <td>52.505000</td>\n",
       "      <td>17.835000</td>\n",
       "      <td>63.060000</td>\n",
       "      <td>15.385000</td>\n",
       "      <td>1.145000</td>\n",
       "      <td>7.620000</td>\n",
       "      <td>103.025000</td>\n",
       "      <td>18.160000</td>\n",
       "      <td>117.275000</td>\n",
       "    </tr>\n",
       "    <tr>\n",
       "      <th>3</th>\n",
       "      <td>284.300000</td>\n",
       "      <td>148.280000</td>\n",
       "      <td>260.670000</td>\n",
       "      <td>148.340000</td>\n",
       "      <td>104.200000</td>\n",
       "      <td>145.120000</td>\n",
       "      <td>114.960000</td>\n",
       "      <td>19.400000</td>\n",
       "      <td>19.600000</td>\n",
       "      <td>140.900000</td>\n",
       "      <td>126.640000</td>\n",
       "      <td>134.250000</td>\n",
       "    </tr>\n",
       "    <tr>\n",
       "      <th>4</th>\n",
       "      <td>68.000000</td>\n",
       "      <td>14.000000</td>\n",
       "      <td>102.520000</td>\n",
       "      <td>7.270000</td>\n",
       "      <td>0.350000</td>\n",
       "      <td>7.600000</td>\n",
       "      <td>49.710000</td>\n",
       "      <td>0.800000</td>\n",
       "      <td>138.150000</td>\n",
       "      <td>11.900000</td>\n",
       "      <td>1.190000</td>\n",
       "      <td>6.230000</td>\n",
       "    </tr>\n",
       "  </tbody>\n",
       "</table>\n",
       "</div>"
      ],
      "text/plain": [
       "       Maize_Domestic Utilization  Maize_Opening Stocks  Maize_Production  \\\n",
       "class                                                                       \n",
       "0                       12.561053              1.796316         11.974737   \n",
       "1                      306.540000             48.760000        358.450000   \n",
       "2                       54.950000              9.265000         49.950000   \n",
       "3                      284.300000            148.280000        260.670000   \n",
       "4                       68.000000             14.000000        102.520000   \n",
       "\n",
       "       Rice_Domestic Utilization  Rice_Opening Stocks  Rice_Production  \\\n",
       "class                                                                    \n",
       "0                       6.183684             1.267368         6.297368   \n",
       "1                       4.850000             0.910000         7.220000   \n",
       "2                      52.505000            17.835000        63.060000   \n",
       "3                     148.340000           104.200000       145.120000   \n",
       "4                       7.270000             0.350000         7.600000   \n",
       "\n",
       "       Soybean_Domestic Utilization  Soybean_Opening Stocks  \\\n",
       "class                                                         \n",
       "0                          4.625263                0.886316   \n",
       "1                         61.060000               14.280000   \n",
       "2                         15.385000                1.145000   \n",
       "3                        114.960000               19.400000   \n",
       "4                         49.710000                0.800000   \n",
       "\n",
       "       Soybean_Production  Wheat_Domestic Utilization  Wheat_Opening Stocks  \\\n",
       "class                                                                         \n",
       "0                3.336316                   10.172632              2.378421   \n",
       "1              114.750000                   30.480000             27.980000   \n",
       "2                7.620000                  103.025000             18.160000   \n",
       "3               19.600000                  140.900000            126.640000   \n",
       "4              138.150000                   11.900000              1.190000   \n",
       "\n",
       "       Wheat_Production  \n",
       "class                    \n",
       "0             13.518947  \n",
       "1             49.750000  \n",
       "2            117.275000  \n",
       "3            134.250000  \n",
       "4              6.230000  "
      ]
     },
     "execution_count": 13,
     "metadata": {},
     "output_type": "execute_result"
    }
   ],
   "source": [
    "aft_mean"
   ]
  },
  {
   "cell_type": "code",
   "execution_count": 14,
   "id": "possible-shelter",
   "metadata": {},
   "outputs": [],
   "source": [
    "aft_mean.to_csv(\"cluster_mean_after.csv\")\n",
    "bef_mean.to_csv(\"cluster_mean_before.csv\")\n",
    "after.to_csv(\"aft.csv\")\n",
    "before.to_csv(\"bef.csv\")"
   ]
  },
  {
   "cell_type": "code",
   "execution_count": null,
   "id": "binding-example",
   "metadata": {},
   "outputs": [],
   "source": []
  }
 ],
 "metadata": {
  "kernelspec": {
   "display_name": "Python 3",
   "language": "python",
   "name": "python3"
  },
  "language_info": {
   "codemirror_mode": {
    "name": "ipython",
    "version": 3
   },
   "file_extension": ".py",
   "mimetype": "text/x-python",
   "name": "python",
   "nbconvert_exporter": "python",
   "pygments_lexer": "ipython3",
   "version": "3.7.3"
  }
 },
 "nbformat": 4,
 "nbformat_minor": 5
}
