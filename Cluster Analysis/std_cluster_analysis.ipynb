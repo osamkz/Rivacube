{
 "cells": [
  {
   "cell_type": "code",
   "execution_count": null,
   "id": "municipal-observation",
   "metadata": {},
   "outputs": [],
   "source": [
    "# ライブラリのインポート\n",
    "import pandas as pd\n",
    "from sklearn.cluster import KMeans"
   ]
  },
  {
   "cell_type": "code",
   "execution_count": null,
   "id": "formal-hostel",
   "metadata": {},
   "outputs": [],
   "source": [
    "after_s = pd.read_csv(\"cluster_1year_stv.csv\")\n",
    "aft_s = after_s.drop('Country/Region',axis=1)\n",
    "\n",
    "# KMeansメソッドの実行\n",
    "clu = KMeans(n_clusters=8)\n",
    "\n",
    "# 結果の出力\n",
    "after_s[\"class\"] = clu.fit_predict(aft_s)\n",
    "\n",
    "afts_mean = after_s.groupby(\"class\").mean()\n",
    "\n",
    "# print(after_s[\"class\"])\n",
    "after_s[after_s[\"class\"]==0]"
   ]
  },
  {
   "cell_type": "code",
   "execution_count": null,
   "id": "wired-charger",
   "metadata": {},
   "outputs": [],
   "source": [
    "after_s[after_s[\"class\"]==1]"
   ]
  },
  {
   "cell_type": "code",
   "execution_count": null,
   "id": "starting-financing",
   "metadata": {},
   "outputs": [],
   "source": [
    "after_s[after_s[\"class\"]==2]"
   ]
  },
  {
   "cell_type": "code",
   "execution_count": null,
   "id": "together-concentrate",
   "metadata": {},
   "outputs": [],
   "source": [
    "after_s[after_s[\"class\"]==3]"
   ]
  },
  {
   "cell_type": "code",
   "execution_count": null,
   "id": "future-prompt",
   "metadata": {},
   "outputs": [],
   "source": [
    "after_s[after_s[\"class\"]==4]"
   ]
  },
  {
   "cell_type": "code",
   "execution_count": null,
   "id": "operating-action",
   "metadata": {},
   "outputs": [],
   "source": [
    "afts_mean.to_csv(\"cluster_mean_after_stv.csv\")\n",
    "after_s.to_csv(\"aft_stv.csv\")"
   ]
  }
 ],
 "metadata": {
  "kernelspec": {
   "display_name": "Python 3",
   "language": "python",
   "name": "python3"
  },
  "language_info": {
   "codemirror_mode": {
    "name": "ipython",
    "version": 3
   },
   "file_extension": ".py",
   "mimetype": "text/x-python",
   "name": "python",
   "nbconvert_exporter": "python",
   "pygments_lexer": "ipython3",
   "version": "3.7.3"
  }
 },
 "nbformat": 4,
 "nbformat_minor": 5
}
